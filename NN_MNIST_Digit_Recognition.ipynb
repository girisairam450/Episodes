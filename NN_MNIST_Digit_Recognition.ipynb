{
  "nbformat": 4,
  "nbformat_minor": 0,
  "metadata": {
    "colab": {
      "name": "NN_MNIST_Digit_Recognition.ipynb",
      "version": "0.3.2",
      "provenance": [],
      "collapsed_sections": [],
      "include_colab_link": true
    },
    "kernelspec": {
      "name": "python3",
      "display_name": "Python 3"
    }
  },
  "cells": [
    {
      "cell_type": "markdown",
      "metadata": {
        "id": "view-in-github",
        "colab_type": "text"
      },
      "source": [
        "<a href=\"https://colab.research.google.com/github/girisairam450/Episodes/blob/master/NN_MNIST_Digit_Recognition.ipynb\" target=\"_parent\"><img src=\"https://colab.research.google.com/assets/colab-badge.svg\" alt=\"Open In Colab\"/></a>"
      ]
    },
    {
      "metadata": {
        "id": "TaTeUTSiGc0L",
        "colab_type": "code",
        "colab": {
          "base_uri": "https://localhost:8080/",
          "height": 34
        },
        "outputId": "e6a3a027-28bd-42b6-e648-fe53839c038d"
      },
      "cell_type": "code",
      "source": [
        "! pip install msgpack"
      ],
      "execution_count": 1,
      "outputs": [
        {
          "output_type": "stream",
          "text": [
            "Requirement already satisfied: msgpack in /usr/local/lib/python3.6/dist-packages (0.5.6)\n"
          ],
          "name": "stdout"
        }
      ]
    },
    {
      "metadata": {
        "id": "MRTKcd7QGtpS",
        "colab_type": "code",
        "colab": {
          "base_uri": "https://localhost:8080/",
          "height": 34
        },
        "outputId": "c8e6f097-a691-4cde-e5b9-d437be3ff33d"
      },
      "cell_type": "code",
      "source": [
        "import numpy as np\n",
        "import pickle\n",
        "import matplotlib.pyplot as plt\n",
        "import pandas as pd\n",
        "import numpy as np\n",
        "import matplotlib.pyplot as plt\n",
        "import h5py\n",
        "import sklearn\n",
        "import sklearn.datasets\n",
        "import scipy\n",
        "\n",
        "from PIL import Image\n",
        "from scipy import ndimage\n",
        "\n",
        "import tensorflow as tf\n",
        "from keras.models import Sequential\n",
        "from keras.layers import Dense, Dropout, BatchNormalization, Activation\n",
        "from keras import regularizers\n",
        "from keras.datasets import mnist\n",
        "\n",
        "np.random.seed(7)\n",
        "\n",
        "\n",
        "%matplotlib inline"
      ],
      "execution_count": 2,
      "outputs": [
        {
          "output_type": "stream",
          "text": [
            "Using TensorFlow backend.\n"
          ],
          "name": "stderr"
        }
      ]
    },
    {
      "metadata": {
        "id": "mpKfUti_G8b9",
        "colab_type": "code",
        "colab": {}
      },
      "cell_type": "code",
      "source": [
        "#(x_train, y_train), (x_test, y_test)\n",
        "(x_train, y_train), (x_test, y_test) = mnist.load_data()"
      ],
      "execution_count": 0,
      "outputs": []
    },
    {
      "metadata": {
        "id": "yxlGj6DcNP61",
        "colab_type": "code",
        "colab": {}
      },
      "cell_type": "code",
      "source": [
        "def one_hot(j):\n",
        "    # input is the target dataset of shape (1, m) where m is the number of data points\n",
        "    # returns a 2 dimensional array of shape (10, m) where each target value is converted to a one hot encoding\n",
        "    # Look at the next block of code for a better understanding of one hot encoding\n",
        "    n = j.shape[0]\n",
        "    new_array = np.zeros((10, n))\n",
        "    index = 0\n",
        "    for res in j:\n",
        "        new_array[res][index] = 1.0\n",
        "        index = index + 1\n",
        "    return new_array"
      ],
      "execution_count": 0,
      "outputs": []
    },
    {
      "metadata": {
        "id": "M5p4Gd35NiXc",
        "colab_type": "code",
        "colab": {
          "base_uri": "https://localhost:8080/",
          "height": 187
        },
        "outputId": "e94e2746-c7a1-4d6b-af4c-09044d8ee13f"
      },
      "cell_type": "code",
      "source": [
        "data = np.array([0, 1, 2, 3, 4, 5, 6, 7, 8, 9])\n",
        "one_hot(data)"
      ],
      "execution_count": 5,
      "outputs": [
        {
          "output_type": "execute_result",
          "data": {
            "text/plain": [
              "array([[1., 0., 0., 0., 0., 0., 0., 0., 0., 0.],\n",
              "       [0., 1., 0., 0., 0., 0., 0., 0., 0., 0.],\n",
              "       [0., 0., 1., 0., 0., 0., 0., 0., 0., 0.],\n",
              "       [0., 0., 0., 1., 0., 0., 0., 0., 0., 0.],\n",
              "       [0., 0., 0., 0., 1., 0., 0., 0., 0., 0.],\n",
              "       [0., 0., 0., 0., 0., 1., 0., 0., 0., 0.],\n",
              "       [0., 0., 0., 0., 0., 0., 1., 0., 0., 0.],\n",
              "       [0., 0., 0., 0., 0., 0., 0., 1., 0., 0.],\n",
              "       [0., 0., 0., 0., 0., 0., 0., 0., 1., 0.],\n",
              "       [0., 0., 0., 0., 0., 0., 0., 0., 0., 1.]])"
            ]
          },
          "metadata": {
            "tags": []
          },
          "execution_count": 5
        }
      ]
    },
    {
      "metadata": {
        "id": "IbtbQ4MJOMLQ",
        "colab_type": "code",
        "colab": {}
      },
      "cell_type": "code",
      "source": [
        "def data_wrapper():\n",
        "    (x_train, y_train), (x_test, y_test) = mnist.load_data()\n",
        "    \n",
        "    training_inputs = x_train.T\n",
        "    training_results = y_train\n",
        "    train_set_y = one_hot(training_results)\n",
        "    \n",
        "    validation_inputs = x_test.T\n",
        "    validation_results = y_test\n",
        "    validation_set_y = one_hot(validation_results)\n",
        "    \n",
        "    return (training_inputs, train_set_y, validation_inputs, validation_set_y)"
      ],
      "execution_count": 0,
      "outputs": []
    },
    {
      "metadata": {
        "id": "GqOsLURnPkov",
        "colab_type": "code",
        "colab": {}
      },
      "cell_type": "code",
      "source": [
        "train_set_x, train_set_y, test_set_x, test_set_y = data_wrapper()"
      ],
      "execution_count": 0,
      "outputs": []
    },
    {
      "metadata": {
        "id": "wDSG4YobPq4z",
        "colab_type": "code",
        "colab": {}
      },
      "cell_type": "code",
      "source": [
        "train_set_x = train_set_x.T\n",
        "train_set_y = train_set_y.T\n",
        "test_set_x = test_set_x.T\n",
        "test_set_y = test_set_y.T"
      ],
      "execution_count": 0,
      "outputs": []
    },
    {
      "metadata": {
        "id": "dlb-UA-qP4zQ",
        "colab_type": "code",
        "colab": {
          "base_uri": "https://localhost:8080/",
          "height": 85
        },
        "outputId": "34c8beac-d3a6-4dd0-a13a-e19a19db33d6"
      },
      "cell_type": "code",
      "source": [
        "print (\"train_set_x shape: \" + str(train_set_x.shape))\n",
        "print (\"train_set_y shape: \" + str(train_set_y.shape))\n",
        "print (\"test_set_x shape: \" + str(test_set_x.shape))\n",
        "print (\"test_set_y shape: \" + str(test_set_y.shape))\n"
      ],
      "execution_count": 9,
      "outputs": [
        {
          "output_type": "stream",
          "text": [
            "train_set_x shape: (60000, 28, 28)\n",
            "train_set_y shape: (60000, 10)\n",
            "test_set_x shape: (10000, 28, 28)\n",
            "test_set_y shape: (10000, 10)\n"
          ],
          "name": "stdout"
        }
      ]
    },
    {
      "metadata": {
        "id": "7bSiKEaHTJl1",
        "colab_type": "code",
        "colab": {}
      },
      "cell_type": "code",
      "source": [
        "train_set_x = train_set_x.reshape(60000,784)\n",
        "test_set_x  =test_set_x.reshape(10000,784)"
      ],
      "execution_count": 0,
      "outputs": []
    },
    {
      "metadata": {
        "id": "d0iwCsG5QOOl",
        "colab_type": "code",
        "colab": {
          "base_uri": "https://localhost:8080/",
          "height": 297
        },
        "outputId": "a5fac83a-141e-41c1-db02-0149189e093c"
      },
      "cell_type": "code",
      "source": [
        "index  = 1000\n",
        "k = train_set_x[index,:]\n",
        "k = k.reshape((28, 28))\n",
        "plt.title('Label is {label}'.format(label= y_train))\n",
        "plt.imshow(k, cmap='gray')"
      ],
      "execution_count": 11,
      "outputs": [
        {
          "output_type": "execute_result",
          "data": {
            "text/plain": [
              "<matplotlib.image.AxesImage at 0x7fcf9b64c550>"
            ]
          },
          "metadata": {
            "tags": []
          },
          "execution_count": 11
        },
        {
          "output_type": "display_data",
          "data": {
            "image/png": "[encoded data removed]",
            "text/plain": [
              "<Figure size 432x288 with 1 Axes>"
            ]
          },
          "metadata": {
            "tags": []
          }
        }
      ]
    },
    {
      "metadata": {
        "id": "_Oppb8mSQ6tz",
        "colab_type": "code",
        "colab": {}
      },
      "cell_type": "code",
      "source": [
        "# create model\n",
        "nn_model = Sequential()\n",
        "nn_model.add(Dense(35, input_dim=784, activation=tf.nn.relu))\n",
        "nn_model.add(Dropout(0.3))\n",
        "nn_model.add(Dense(21, activation = 'relu'))\n",
        "nn_model.add(Dropout(0.1))\n",
        "nn_model.add(Dense(16, activation = 'relu'))\n",
        "nn_model.add(Dense(10, activation='softmax'))"
      ],
      "execution_count": 0,
      "outputs": []
    },
    {
      "metadata": {
        "id": "Seg5QhGeSaaJ",
        "colab_type": "code",
        "colab": {}
      },
      "cell_type": "code",
      "source": [
        "nn_model.compile(loss='categorical_crossentropy', optimizer='adam', metrics=['accuracy'])"
      ],
      "execution_count": 0,
      "outputs": []
    },
    {
      "metadata": {
        "id": "OIy8zrzAW7Rs",
        "colab_type": "code",
        "colab": {
          "base_uri": "https://localhost:8080/",
          "height": 340
        },
        "outputId": "715963ea-0691-4ff6-ad4d-7edd41b28ddb"
      },
      "cell_type": "code",
      "source": [
        "nn_model.summary()"
      ],
      "execution_count": 32,
      "outputs": [
        {
          "output_type": "stream",
          "text": [
            "_________________________________________________________________\n",
            "Layer (type)                 Output Shape              Param #   \n",
            "=================================================================\n",
            "dense_16 (Dense)             (None, 35)                27475     \n",
            "_________________________________________________________________\n",
            "dropout_7 (Dropout)          (None, 35)                0         \n",
            "_________________________________________________________________\n",
            "dense_17 (Dense)             (None, 21)                756       \n",
            "_________________________________________________________________\n",
            "dropout_8 (Dropout)          (None, 21)                0         \n",
            "_________________________________________________________________\n",
            "dense_18 (Dense)             (None, 16)                352       \n",
            "_________________________________________________________________\n",
            "dense_19 (Dense)             (None, 10)                170       \n",
            "=================================================================\n",
            "Total params: 28,753\n",
            "Trainable params: 28,753\n",
            "Non-trainable params: 0\n",
            "_________________________________________________________________\n"
          ],
          "name": "stdout"
        }
      ]
    },
    {
      "metadata": {
        "id": "XN-r98bUSgs1",
        "colab_type": "code",
        "colab": {
          "base_uri": "https://localhost:8080/",
          "height": 1054
        },
        "outputId": "8fb01ad5-ead1-4d87-84a7-3021bcb286b0"
      },
      "cell_type": "code",
      "source": [
        "nn_model.fit(train_set_x, train_set_y, epochs=30, batch_size=10)"
      ],
      "execution_count": 33,
      "outputs": [
        {
          "output_type": "stream",
          "text": [
            "Epoch 1/30\n",
            "60000/60000 [==============================] - 10s 164us/step - loss: 8.9124 - acc: 0.4388\n",
            "Epoch 2/30\n",
            "60000/60000 [==============================] - 9s 153us/step - loss: 6.4534 - acc: 0.5931\n",
            "Epoch 3/30\n",
            "60000/60000 [==============================] - 9s 152us/step - loss: 5.9488 - acc: 0.6264\n",
            "Epoch 4/30\n",
            "60000/60000 [==============================] - 9s 152us/step - loss: 5.5471 - acc: 0.6521\n",
            "Epoch 5/30\n",
            "60000/60000 [==============================] - 9s 153us/step - loss: 5.1700 - acc: 0.6739\n",
            "Epoch 6/30\n",
            "60000/60000 [==============================] - 9s 155us/step - loss: 3.9273 - acc: 0.6846\n",
            "Epoch 7/30\n",
            "60000/60000 [==============================] - 9s 153us/step - loss: 1.8249 - acc: 0.5571\n",
            "Epoch 8/30\n",
            "60000/60000 [==============================] - 9s 153us/step - loss: 1.5827 - acc: 0.5439\n",
            "Epoch 9/30\n",
            "60000/60000 [==============================] - 10s 165us/step - loss: 1.4068 - acc: 0.5519\n",
            "Epoch 10/30\n",
            "60000/60000 [==============================] - 9s 158us/step - loss: 1.2811 - acc: 0.6005\n",
            "Epoch 11/30\n",
            "60000/60000 [==============================] - 9s 155us/step - loss: 1.0022 - acc: 0.7048\n",
            "Epoch 12/30\n",
            "60000/60000 [==============================] - 9s 153us/step - loss: 0.8149 - acc: 0.7588\n",
            "Epoch 13/30\n",
            "60000/60000 [==============================] - 9s 154us/step - loss: 0.7179 - acc: 0.7854\n",
            "Epoch 14/30\n",
            "60000/60000 [==============================] - 9s 152us/step - loss: 0.6588 - acc: 0.8004\n",
            "Epoch 15/30\n",
            "60000/60000 [==============================] - 9s 151us/step - loss: 0.6384 - acc: 0.8097\n",
            "Epoch 16/30\n",
            "60000/60000 [==============================] - 9s 154us/step - loss: 0.6213 - acc: 0.8164\n",
            "Epoch 17/30\n",
            "60000/60000 [==============================] - 9s 152us/step - loss: 0.5987 - acc: 0.8256\n",
            "Epoch 18/30\n",
            "60000/60000 [==============================] - 9s 156us/step - loss: 0.5954 - acc: 0.8250\n",
            "Epoch 19/30\n",
            "60000/60000 [==============================] - 9s 155us/step - loss: 0.5838 - acc: 0.8290\n",
            "Epoch 20/30\n",
            "60000/60000 [==============================] - 9s 157us/step - loss: 0.5829 - acc: 0.8282\n",
            "Epoch 21/30\n",
            "60000/60000 [==============================] - 9s 154us/step - loss: 0.5753 - acc: 0.8318\n",
            "Epoch 22/30\n",
            "60000/60000 [==============================] - 9s 153us/step - loss: 0.5696 - acc: 0.8362\n",
            "Epoch 23/30\n",
            "60000/60000 [==============================] - 9s 155us/step - loss: 0.5598 - acc: 0.8386\n",
            "Epoch 24/30\n",
            "60000/60000 [==============================] - 9s 154us/step - loss: 0.5648 - acc: 0.8373\n",
            "Epoch 25/30\n",
            "60000/60000 [==============================] - 10s 165us/step - loss: 0.5522 - acc: 0.8382\n",
            "Epoch 26/30\n",
            "60000/60000 [==============================] - 10s 173us/step - loss: 0.5531 - acc: 0.8400\n",
            "Epoch 27/30\n",
            "60000/60000 [==============================] - 9s 153us/step - loss: 0.5518 - acc: 0.8381\n",
            "Epoch 28/30\n",
            "60000/60000 [==============================] - 10s 160us/step - loss: 0.5414 - acc: 0.8428\n",
            "Epoch 29/30\n",
            "60000/60000 [==============================] - 9s 151us/step - loss: 0.5375 - acc: 0.8425\n",
            "Epoch 30/30\n",
            "60000/60000 [==============================] - 9s 152us/step - loss: 0.5418 - acc: 0.8423\n"
          ],
          "name": "stdout"
        },
        {
          "output_type": "execute_result",
          "data": {
            "text/plain": [
              "<keras.callbacks.History at 0x7fcf94085240>"
            ]
          },
          "metadata": {
            "tags": []
          },
          "execution_count": 33
        }
      ]
    },
    {
      "metadata": {
        "id": "V3_slVGwUOZH",
        "colab_type": "code",
        "colab": {
          "base_uri": "https://localhost:8080/",
          "height": 68
        },
        "outputId": "71841920-59f6-46b7-9243-26386251251f"
      },
      "cell_type": "code",
      "source": [
        "scores_train = nn_model.evaluate(train_set_x, train_set_y)\n",
        "print(\"\\n%s: %.2f%%\" % (nn_model.metrics_names[1], scores_train[1]*100))"
      ],
      "execution_count": 34,
      "outputs": [
        {
          "output_type": "stream",
          "text": [
            "60000/60000 [==============================] - 2s 30us/step\n",
            "\n",
            "acc: 92.55%\n"
          ],
          "name": "stdout"
        }
      ]
    },
    {
      "metadata": {
        "id": "sGOh1thxUl3q",
        "colab_type": "code",
        "colab": {
          "base_uri": "https://localhost:8080/",
          "height": 34
        },
        "outputId": "2378d2c2-f516-4f3c-bb3b-bed101bdfa5d"
      },
      "cell_type": "code",
      "source": [
        "predictions = nn_model.predict(test_set_x)\n",
        "predictions = np.argmax(predictions, axis = 1)\n",
        "predictions"
      ],
      "execution_count": 35,
      "outputs": [
        {
          "output_type": "execute_result",
          "data": {
            "text/plain": [
              "array([7, 2, 1, ..., 4, 8, 6])"
            ]
          },
          "metadata": {
            "tags": []
          },
          "execution_count": 35
        }
      ]
    },
    {
      "metadata": {
        "id": "3YF9cXUJU63q",
        "colab_type": "code",
        "colab": {
          "base_uri": "https://localhost:8080/",
          "height": 68
        },
        "outputId": "44ef5712-a1fe-4147-f9a6-07a27f7db9f1"
      },
      "cell_type": "code",
      "source": [
        "scores_test = nn_model.evaluate(test_set_x, test_set_y)\n",
        "print(\"\\n%s: %.2f%%\" % (nn_model.metrics_names[1], scores_test[1]*100))"
      ],
      "execution_count": 36,
      "outputs": [
        {
          "output_type": "stream",
          "text": [
            "10000/10000 [==============================] - 0s 28us/step\n",
            "\n",
            "acc: 92.09%\n"
          ],
          "name": "stdout"
        }
      ]
    },
    {
      "metadata": {
        "id": "rE3wgwt1VFmb",
        "colab_type": "code",
        "colab": {
          "base_uri": "https://localhost:8080/",
          "height": 297
        },
        "outputId": "b821e900-7555-4382-f51a-c4c87bf7c56d"
      },
      "cell_type": "code",
      "source": [
        "index  = 9999\n",
        "k = test_set_x[index, :]\n",
        "k = k.reshape((28, 28))\n",
        "plt.title('Label is {label}'.format(label=(predictions[index], np.argmax(test_set_y, axis = 1)[index])))\n",
        "plt.imshow(k, cmap='gray')"
      ],
      "execution_count": 37,
      "outputs": [
        {
          "output_type": "execute_result",
          "data": {
            "text/plain": [
              "<matplotlib.image.AxesImage at 0x7fcf92600a20>"
            ]
          },
          "metadata": {
            "tags": []
          },
          "execution_count": 37
        },
        {
          "output_type": "display_data",
          "data": {
            "image/png": "[encoded data removed]",
            "text/plain": [
              "<Figure size 432x288 with 1 Axes>"
            ]
          },
          "metadata": {
            "tags": []
          }
        }
      ]
    }
  ]
}